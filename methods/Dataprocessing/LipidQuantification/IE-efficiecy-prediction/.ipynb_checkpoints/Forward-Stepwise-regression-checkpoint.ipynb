{
 "cells": [
  {
   "cell_type": "markdown",
   "id": "06d15baa",
   "metadata": {},
   "source": [
    "# Forward Stepwise Regression using R² for feature selection"
   ]
  },
  {
   "cell_type": "code",
   "execution_count": 8,
   "id": "edf8142c",
   "metadata": {},
   "outputs": [
    {
     "ename": "AttributeError",
     "evalue": "module 'numpy' has no attribute 'MachAr'",
     "output_type": "error",
     "traceback": [
      "\u001b[1;31m---------------------------------------------------------------------------\u001b[0m",
      "\u001b[1;31mAttributeError\u001b[0m                            Traceback (most recent call last)",
      "\u001b[1;32m<ipython-input-8-279738420551>\u001b[0m in \u001b[0;36m<module>\u001b[1;34m\u001b[0m\n\u001b[0;32m      1\u001b[0m \u001b[1;32mimport\u001b[0m \u001b[0mpandas\u001b[0m \u001b[1;32mas\u001b[0m \u001b[0mpd\u001b[0m\u001b[1;33m\u001b[0m\u001b[1;33m\u001b[0m\u001b[0m\n\u001b[0;32m      2\u001b[0m \u001b[1;32mimport\u001b[0m \u001b[0mnumpy\u001b[0m \u001b[1;32mas\u001b[0m \u001b[0mnp\u001b[0m\u001b[1;33m\u001b[0m\u001b[1;33m\u001b[0m\u001b[0m\n\u001b[1;32m----> 3\u001b[1;33m \u001b[1;32mimport\u001b[0m \u001b[0mstatsmodels\u001b[0m\u001b[1;33m.\u001b[0m\u001b[0mapi\u001b[0m \u001b[1;32mas\u001b[0m \u001b[0msm\u001b[0m\u001b[1;33m\u001b[0m\u001b[1;33m\u001b[0m\u001b[0m\n\u001b[0m\u001b[0;32m      4\u001b[0m \u001b[1;32mimport\u001b[0m \u001b[0mwarnings\u001b[0m\u001b[1;33m\u001b[0m\u001b[1;33m\u001b[0m\u001b[0m\n\u001b[0;32m      5\u001b[0m \u001b[1;32mfrom\u001b[0m \u001b[0mtqdm\u001b[0m \u001b[1;32mimport\u001b[0m \u001b[0mtqdm\u001b[0m  \u001b[1;31m# Progress bar\u001b[0m\u001b[1;33m\u001b[0m\u001b[1;33m\u001b[0m\u001b[0m\n",
      "\u001b[1;32mC:\\ProgramData\\Anaconda3\\lib\\site-packages\\statsmodels\\api.py\u001b[0m in \u001b[0;36m<module>\u001b[1;34m\u001b[0m\n\u001b[0;32m      7\u001b[0m \u001b[1;32mfrom\u001b[0m \u001b[1;33m.\u001b[0m \u001b[1;32mimport\u001b[0m \u001b[0mtools\u001b[0m\u001b[1;33m\u001b[0m\u001b[1;33m\u001b[0m\u001b[0m\n\u001b[0;32m      8\u001b[0m \u001b[1;32mfrom\u001b[0m \u001b[1;33m.\u001b[0m\u001b[0mtools\u001b[0m\u001b[1;33m.\u001b[0m\u001b[0mtools\u001b[0m \u001b[1;32mimport\u001b[0m \u001b[0madd_constant\u001b[0m\u001b[1;33m,\u001b[0m \u001b[0mcategorical\u001b[0m\u001b[1;33m\u001b[0m\u001b[1;33m\u001b[0m\u001b[0m\n\u001b[1;32m----> 9\u001b[1;33m \u001b[1;32mfrom\u001b[0m \u001b[1;33m.\u001b[0m \u001b[1;32mimport\u001b[0m \u001b[0mregression\u001b[0m\u001b[1;33m\u001b[0m\u001b[1;33m\u001b[0m\u001b[0m\n\u001b[0m\u001b[0;32m     10\u001b[0m \u001b[1;32mfrom\u001b[0m \u001b[1;33m.\u001b[0m\u001b[0mregression\u001b[0m\u001b[1;33m.\u001b[0m\u001b[0mlinear_model\u001b[0m \u001b[1;32mimport\u001b[0m \u001b[0mOLS\u001b[0m\u001b[1;33m,\u001b[0m \u001b[0mGLS\u001b[0m\u001b[1;33m,\u001b[0m \u001b[0mWLS\u001b[0m\u001b[1;33m,\u001b[0m \u001b[0mGLSAR\u001b[0m\u001b[1;33m\u001b[0m\u001b[1;33m\u001b[0m\u001b[0m\n\u001b[0;32m     11\u001b[0m \u001b[1;32mfrom\u001b[0m \u001b[1;33m.\u001b[0m\u001b[0mregression\u001b[0m\u001b[1;33m.\u001b[0m\u001b[0mrecursive_ls\u001b[0m \u001b[1;32mimport\u001b[0m \u001b[0mRecursiveLS\u001b[0m\u001b[1;33m\u001b[0m\u001b[1;33m\u001b[0m\u001b[0m\n",
      "\u001b[1;32mC:\\ProgramData\\Anaconda3\\lib\\site-packages\\statsmodels\\regression\\__init__.py\u001b[0m in \u001b[0;36m<module>\u001b[1;34m\u001b[0m\n\u001b[1;32m----> 1\u001b[1;33m \u001b[1;32mfrom\u001b[0m \u001b[1;33m.\u001b[0m\u001b[0mlinear_model\u001b[0m \u001b[1;32mimport\u001b[0m \u001b[0myule_walker\u001b[0m\u001b[1;33m\u001b[0m\u001b[1;33m\u001b[0m\u001b[0m\n\u001b[0m\u001b[0;32m      2\u001b[0m \u001b[1;33m\u001b[0m\u001b[0m\n\u001b[0;32m      3\u001b[0m \u001b[1;32mfrom\u001b[0m \u001b[0mstatsmodels\u001b[0m\u001b[1;33m.\u001b[0m\u001b[0mtools\u001b[0m\u001b[1;33m.\u001b[0m\u001b[0m_testing\u001b[0m \u001b[1;32mimport\u001b[0m \u001b[0mPytestTester\u001b[0m\u001b[1;33m\u001b[0m\u001b[1;33m\u001b[0m\u001b[0m\n\u001b[0;32m      4\u001b[0m \u001b[1;33m\u001b[0m\u001b[0m\n\u001b[0;32m      5\u001b[0m \u001b[0m__all__\u001b[0m \u001b[1;33m=\u001b[0m \u001b[1;33m[\u001b[0m\u001b[1;34m'yule_walker'\u001b[0m\u001b[1;33m,\u001b[0m \u001b[1;34m'test'\u001b[0m\u001b[1;33m]\u001b[0m\u001b[1;33m\u001b[0m\u001b[1;33m\u001b[0m\u001b[0m\n",
      "\u001b[1;32mC:\\ProgramData\\Anaconda3\\lib\\site-packages\\statsmodels\\regression\\linear_model.py\u001b[0m in \u001b[0;36m<module>\u001b[1;34m\u001b[0m\n\u001b[0;32m     44\u001b[0m from statsmodels.tools.decorators import (cache_readonly,\n\u001b[0;32m     45\u001b[0m                                           cache_writable)\n\u001b[1;32m---> 46\u001b[1;33m \u001b[1;32mimport\u001b[0m \u001b[0mstatsmodels\u001b[0m\u001b[1;33m.\u001b[0m\u001b[0mbase\u001b[0m\u001b[1;33m.\u001b[0m\u001b[0mmodel\u001b[0m \u001b[1;32mas\u001b[0m \u001b[0mbase\u001b[0m\u001b[1;33m\u001b[0m\u001b[1;33m\u001b[0m\u001b[0m\n\u001b[0m\u001b[0;32m     47\u001b[0m \u001b[1;32mimport\u001b[0m \u001b[0mstatsmodels\u001b[0m\u001b[1;33m.\u001b[0m\u001b[0mbase\u001b[0m\u001b[1;33m.\u001b[0m\u001b[0mwrapper\u001b[0m \u001b[1;32mas\u001b[0m \u001b[0mwrap\u001b[0m\u001b[1;33m\u001b[0m\u001b[1;33m\u001b[0m\u001b[0m\n\u001b[0;32m     48\u001b[0m \u001b[1;32mfrom\u001b[0m \u001b[0mstatsmodels\u001b[0m\u001b[1;33m.\u001b[0m\u001b[0memplike\u001b[0m\u001b[1;33m.\u001b[0m\u001b[0melregress\u001b[0m \u001b[1;32mimport\u001b[0m \u001b[0m_ELRegOpts\u001b[0m\u001b[1;33m\u001b[0m\u001b[1;33m\u001b[0m\u001b[0m\n",
      "\u001b[1;32mC:\\ProgramData\\Anaconda3\\lib\\site-packages\\statsmodels\\base\\model.py\u001b[0m in \u001b[0;36m<module>\u001b[1;34m\u001b[0m\n\u001b[0;32m     14\u001b[0m                                           cached_value, cached_data)\n\u001b[0;32m     15\u001b[0m \u001b[1;32mimport\u001b[0m \u001b[0mstatsmodels\u001b[0m\u001b[1;33m.\u001b[0m\u001b[0mbase\u001b[0m\u001b[1;33m.\u001b[0m\u001b[0mwrapper\u001b[0m \u001b[1;32mas\u001b[0m \u001b[0mwrap\u001b[0m\u001b[1;33m\u001b[0m\u001b[1;33m\u001b[0m\u001b[0m\n\u001b[1;32m---> 16\u001b[1;33m \u001b[1;32mfrom\u001b[0m \u001b[0mstatsmodels\u001b[0m\u001b[1;33m.\u001b[0m\u001b[0mtools\u001b[0m\u001b[1;33m.\u001b[0m\u001b[0mnumdiff\u001b[0m \u001b[1;32mimport\u001b[0m \u001b[0mapprox_fprime\u001b[0m\u001b[1;33m\u001b[0m\u001b[1;33m\u001b[0m\u001b[0m\n\u001b[0m\u001b[0;32m     17\u001b[0m \u001b[1;32mfrom\u001b[0m \u001b[0mstatsmodels\u001b[0m\u001b[1;33m.\u001b[0m\u001b[0mtools\u001b[0m\u001b[1;33m.\u001b[0m\u001b[0msm_exceptions\u001b[0m \u001b[1;32mimport\u001b[0m \u001b[0mValueWarning\u001b[0m\u001b[1;33m,\u001b[0m\u001b[0;31m \u001b[0m\u001b[0;31m\\\u001b[0m\u001b[1;33m\u001b[0m\u001b[1;33m\u001b[0m\u001b[0m\n\u001b[0;32m     18\u001b[0m     \u001b[0mHessianInversionWarning\u001b[0m\u001b[1;33m\u001b[0m\u001b[1;33m\u001b[0m\u001b[0m\n",
      "\u001b[1;32mC:\\ProgramData\\Anaconda3\\lib\\site-packages\\statsmodels\\tools\\numdiff.py\u001b[0m in \u001b[0;36m<module>\u001b[1;34m\u001b[0m\n\u001b[0;32m     49\u001b[0m \u001b[1;33m\u001b[0m\u001b[0m\n\u001b[0;32m     50\u001b[0m \u001b[1;31m# NOTE: we only do double precision internally so far\u001b[0m\u001b[1;33m\u001b[0m\u001b[1;33m\u001b[0m\u001b[1;33m\u001b[0m\u001b[0m\n\u001b[1;32m---> 51\u001b[1;33m \u001b[0mEPS\u001b[0m \u001b[1;33m=\u001b[0m \u001b[0mnp\u001b[0m\u001b[1;33m.\u001b[0m\u001b[0mMachAr\u001b[0m\u001b[1;33m(\u001b[0m\u001b[1;33m)\u001b[0m\u001b[1;33m.\u001b[0m\u001b[0meps\u001b[0m\u001b[1;33m\u001b[0m\u001b[1;33m\u001b[0m\u001b[0m\n\u001b[0m\u001b[0;32m     52\u001b[0m \u001b[1;33m\u001b[0m\u001b[0m\n\u001b[0;32m     53\u001b[0m _hessian_docs = \"\"\"\n",
      "\u001b[1;32m~\\AppData\\Roaming\\Python\\Python38\\site-packages\\numpy\\__init__.py\u001b[0m in \u001b[0;36m__getattr__\u001b[1;34m(attr)\u001b[0m\n\u001b[0;32m    318\u001b[0m             \u001b[1;32mreturn\u001b[0m \u001b[0mTester\u001b[0m\u001b[1;33m\u001b[0m\u001b[1;33m\u001b[0m\u001b[0m\n\u001b[0;32m    319\u001b[0m \u001b[1;33m\u001b[0m\u001b[0m\n\u001b[1;32m--> 320\u001b[1;33m         raise AttributeError(\"module {!r} has no attribute \"\n\u001b[0m\u001b[0;32m    321\u001b[0m                              \"{!r}\".format(__name__, attr))\n\u001b[0;32m    322\u001b[0m \u001b[1;33m\u001b[0m\u001b[0m\n",
      "\u001b[1;31mAttributeError\u001b[0m: module 'numpy' has no attribute 'MachAr'"
     ]
    }
   ],
   "source": [
    "import pandas as pd\n",
    "import numpy as np\n",
    "import statsmodels.api as sm\n",
    "import warnings\n",
    "from tqdm import tqdm  # Progress bar\n",
    "import matplotlib.pyplot as plt\n",
    "\n",
    "# Suppress warnings\n",
    "warnings.filterwarnings(\"ignore\")\n",
    "\n",
    "# Forward Stepwise Regression using R² for feature selection\n",
    "def forward_selection_with_r2_threshold(X, y, r2_threshold=0.001):\n",
    "    initial_features = []\n",
    "    r2_values = []\n",
    "    current_r2 = 0\n",
    "    remaining_features = [col for col in X.columns if col not in initial_features]\n",
    "    \n",
    "    # Use tqdm to track progress\n",
    "    with tqdm(total=len(remaining_features), desc=\"Performing Forward Stepwise Regression (R²)\") as pbar:\n",
    "        while True:\n",
    "            remaining_features = [col for col in X.columns if col not in initial_features]\n",
    "            new_r2 = pd.Series(index=remaining_features)\n",
    "            for new_column in remaining_features:\n",
    "                model = sm.OLS(y, sm.add_constant(X[initial_features + [new_column]])).fit()\n",
    "                new_r2[new_column] = model.rsquared\n",
    "            best_feature = new_r2.idxmax()\n",
    "            best_r2 = new_r2.max()\n",
    "            \n",
    "            # Check if the improvement in R² is above the threshold\n",
    "            if (best_r2 - current_r2) > r2_threshold:\n",
    "                initial_features.append(best_feature)\n",
    "                current_r2 = best_r2\n",
    "                r2_values.append(current_r2)\n",
    "                pbar.update(1)  # Update progress bar\n",
    "                print(f\"Added Feature: {best_feature}, R²: {current_r2:.4f}\")\n",
    "            else:\n",
    "                break\n",
    "    return initial_features, r2_values\n",
    "\n",
    "# Load your dataset (replace 'your_file_path.xlsx' with the actual file path)\n",
    "file_path = 'IE-training-file-standard.xlsx'\n",
    "mh_sheet = pd.read_excel(file_path, sheet_name='M+H')\n",
    "\n",
    "# Define the target variable (logRIE) and exclude unnecessary columns\n",
    "exclude_columns = ['index', 'Molecule List', 'Molecule', 'SMILES', 'Adduct', \n",
    "                   'isotopic correction factor', 'Slope', 'RIE(LPE)', 'logRIE(LPE)']\n",
    "\n",
    "# Select relevant features and target\n",
    "X = mh_sheet.drop(columns=exclude_columns)  # Drop logRIE(LPE) from features\n",
    "y = mh_sheet['logRIE(LPE)']  # Set logRIE(LPE) as the target\n",
    "\n",
    "# Remove columns that have missing values (while keeping all rows)\n",
    "X = X.dropna(axis=1)\n",
    "\n",
    "# Ensure the number of rows in the dataset after cleaning columns\n",
    "print(f\"Number of rows after cleaning columns: {len(y)}\")\n",
    "print(f\"Number of columns after removing missing columns: {X.shape[1]}\")\n",
    "\n",
    "# Perform Forward Stepwise Regression using R² with a threshold for improvement\n",
    "selected_features_forward, r2_values_forward = forward_selection_with_r2_threshold(X, y, r2_threshold=0.05)\n",
    "\n",
    "# Plot R² values against number of features\n",
    "plt.plot(range(1, len(r2_values_forward) + 1), r2_values_forward, marker='o')\n",
    "plt.xlabel('Number of Features')\n",
    "plt.ylabel('R² Value')\n",
    "plt.title('Forward Stepwise Regression (R²): R² vs Number of Features')\n",
    "plt.grid(True)\n",
    "plt.show()\n",
    "\n",
    "# Build the final model using the selected features\n",
    "final_model = sm.OLS(y, sm.add_constant(X[selected_features_forward])).fit()\n",
    "\n",
    "# Predict logRIE(LPE) values using the final model\n",
    "y_pred = final_model.predict(sm.add_constant(X[selected_features_forward]))\n",
    "\n",
    "# Extract the feature names and their corresponding coefficients (weights)\n",
    "feature_weights = pd.DataFrame({\n",
    "    'Feature': ['Intercept'] + selected_features_forward,\n",
    "    'Weight': final_model.params.values\n",
    "})\n",
    "\n",
    "# Define the output file path (you can specify your preferred file path)\n",
    "output_file_path = 'selected_features_and_weights.xlsx'\n",
    "\n",
    "# Export to Excel file\n",
    "feature_weights.to_excel(output_file_path, index=False)\n",
    "\n",
    "# Optionally, display the DataFrame with the features and their weights\n",
    "print(feature_weights)\n"
   ]
  },
  {
   "cell_type": "code",
   "execution_count": 7,
   "id": "56903c8d",
   "metadata": {},
   "outputs": [
    {
     "name": "stdout",
     "output_type": "stream",
     "text": [
      "Requirement already satisfied: numpy in c:\\users\\samratr21\\appdata\\roaming\\python\\python38\\site-packages (1.24.4)"
     ]
    },
    {
     "name": "stderr",
     "output_type": "stream",
     "text": [
      "ERROR: Could not install packages due to an OSError: [WinError 5] Access is denied: 'C:\\\\ProgramData\\\\Anaconda3\\\\Lib\\\\site-packages\\\\numpy\\\\LICENSE.txt'\n",
      "Consider using the `--user` option or check the permissions.\n",
      "\n"
     ]
    },
    {
     "name": "stdout",
     "output_type": "stream",
     "text": [
      "\n",
      "Requirement already satisfied: statsmodels in c:\\programdata\\anaconda3\\lib\\site-packages (0.12.2)\n",
      "Collecting statsmodels\n",
      "  Downloading statsmodels-0.14.1-cp38-cp38-win_amd64.whl (10.0 MB)\n",
      "Requirement already satisfied: pandas!=2.1.0,>=1.0 in c:\\users\\samratr21\\appdata\\roaming\\python\\python38\\site-packages (from statsmodels) (2.0.3)\n",
      "Requirement already satisfied: scipy!=1.9.2,>=1.4 in c:\\programdata\\anaconda3\\lib\\site-packages (from statsmodels) (1.6.2)\n",
      "Collecting patsy>=0.5.4\n",
      "  Downloading patsy-0.5.6-py2.py3-none-any.whl (233 kB)\n",
      "Collecting packaging>=21.3\n",
      "  Downloading packaging-24.1-py3-none-any.whl (53 kB)\n",
      "Requirement already satisfied: tzdata>=2022.1 in c:\\programdata\\anaconda3\\lib\\site-packages (from pandas!=2.1.0,>=1.0->statsmodels) (2024.1)\n",
      "Requirement already satisfied: python-dateutil>=2.8.2 in c:\\users\\samratr21\\appdata\\roaming\\python\\python38\\site-packages (from pandas!=2.1.0,>=1.0->statsmodels) (2.9.0.post0)\n",
      "Requirement already satisfied: pytz>=2020.1 in c:\\users\\samratr21\\appdata\\roaming\\python\\python38\\site-packages (from pandas!=2.1.0,>=1.0->statsmodels) (2024.2)\n",
      "Requirement already satisfied: six in c:\\programdata\\anaconda3\\lib\\site-packages (from patsy>=0.5.4->statsmodels) (1.15.0)\n",
      "Collecting numpy\n",
      "  Downloading numpy-1.22.4-cp38-cp38-win_amd64.whl (14.8 MB)\n",
      "Installing collected packages: numpy, patsy, packaging, statsmodels\n",
      "  Attempting uninstall: numpy\n",
      "    Found existing installation: numpy 1.24.4\n",
      "    Uninstalling numpy-1.24.4:\n",
      "      Successfully uninstalled numpy-1.24.4\n",
      "  Rolling back uninstall of numpy\n",
      "  Moving to c:\\users\\samratr21\\appdata\\roaming\\python\\python38\\scripts\\f2py.exe\n",
      "   from C:\\Users\\samratr21\\AppData\\Local\\Temp\\pip-uninstall-9a4v5wak\\f2py.exe\n",
      "  Moving to c:\\users\\samratr21\\appdata\\roaming\\python\\python38\\site-packages\\numpy-1.24.4.dist-info\\\n",
      "   from C:\\Users\\samratr21\\AppData\\Roaming\\Python\\Python38\\site-packages\\~umpy-1.24.4.dist-info\n",
      "  Moving to c:\\users\\samratr21\\appdata\\roaming\\python\\python38\\site-packages\\numpy\\\n",
      "   from C:\\Users\\samratr21\\AppData\\Roaming\\Python\\Python38\\site-packages\\~umpy\n"
     ]
    }
   ],
   "source": [
    "!pip3 install --upgrade numpy statsmodels"
   ]
  },
  {
   "cell_type": "code",
   "execution_count": 8,
   "id": "49d22e52",
   "metadata": {},
   "outputs": [
    {
     "data": {
      "image/png": "[encoded data removed]",
      "text/plain": [
       "<Figure size 576x432 with 1 Axes>"
      ]
     },
     "metadata": {
      "needs_background": "light"
     },
     "output_type": "display_data"
    },
    {
     "data": {
      "text/plain": [
       "(['GATS1s',\n",
       "  'GATS3m',\n",
       "  'nN',\n",
       "  'VR2_D',\n",
       "  'R_TpiPCTPC',\n",
       "  'MATS4s',\n",
       "  'MATS1s',\n",
       "  'MATS3c',\n",
       "  'GATS2s',\n",
       "  'VR2_Dt',\n",
       "  'topoShape',\n",
       "  'nHeteroRing',\n",
       "  'C2SP2',\n",
       "  'MATS3s',\n",
       "  'VE3_D',\n",
       "  'ATSC2c',\n",
       "  'AATS7p',\n",
       "  'ATSC7v',\n",
       "  'LipinskiFailures',\n",
       "  'AATS2p'],\n",
       " 0.9959896890225615)"
      ]
     },
     "execution_count": 8,
     "metadata": {},
     "output_type": "execute_result"
    }
   ],
   "source": [
    "# Plot observed vs predicted logRIE(LPE) for all rows\n",
    "plt.figure(figsize=(8, 6))\n",
    "plt.scatter(y, y_pred, color='blue', label='Predicted vs Observed')\n",
    "plt.plot([y.min(), y.max()], [y.min(), y.max()], 'r--', label='Perfect Fit')\n",
    "\n",
    "# Add annotations for MSE and R²\n",
    "mse_full_data = ((y - y_pred) ** 2).mean()\n",
    "r2_full_data = final_model.rsquared\n",
    "plt.text(0.05, 0.85, f'MSE: {mse_full_data:.2f}', transform=plt.gca().transAxes, fontsize=12, verticalalignment='top')\n",
    "plt.text(0.05, 0.80, f'R²: {r2_full_data:.2f}', transform=plt.gca().transAxes, fontsize=12, verticalalignment='top')\n",
    "\n",
    "# Labels and title\n",
    "plt.xlabel('Observed logRIE(LPE)')\n",
    "plt.ylabel('Predicted logRIE(LPE)')\n",
    "plt.title('Observed vs Predicted logRIE(LPE) using Forward Stepwise Selection (R²) M+H')\n",
    "plt.legend()\n",
    "plt.show()\n",
    "\n",
    "\n",
    "# Return selected features and R² value\n",
    "selected_features_forward, r2_full_data\n"
   ]
  },
  {
   "cell_type": "markdown",
   "id": "e11774b2",
   "metadata": {},
   "source": [
    "# Find the outlier data for forward regression"
   ]
  },
  {
   "cell_type": "code",
   "execution_count": 6,
   "id": "18a5e5e6",
   "metadata": {},
   "outputs": [
    {
     "name": "stderr",
     "output_type": "stream",
     "text": [
      "\r",
      "Performing Forward Stepwise Regression (R²):   0%|          | 0/644 [00:00<?, ?it/s]"
     ]
    },
    {
     "name": "stdout",
     "output_type": "stream",
     "text": [
      "Number of rows after cleaning columns: 38\n",
      "Number of columns after removing missing columns: 644\n"
     ]
    },
    {
     "name": "stderr",
     "output_type": "stream",
     "text": [
      "\r",
      "Performing Forward Stepwise Regression (R²):   0%|          | 1/644 [00:01<16:18,  1.52s/it]"
     ]
    },
    {
     "name": "stdout",
     "output_type": "stream",
     "text": [
      "Added Feature: GATS1s, R²: 0.5665\n"
     ]
    },
    {
     "name": "stderr",
     "output_type": "stream",
     "text": [
      "\r",
      "Performing Forward Stepwise Regression (R²):   0%|          | 2/644 [00:03<16:33,  1.55s/it]"
     ]
    },
    {
     "name": "stdout",
     "output_type": "stream",
     "text": [
      "Added Feature: GATS3m, R²: 0.7576\n"
     ]
    },
    {
     "name": "stderr",
     "output_type": "stream",
     "text": [
      "\r",
      "Performing Forward Stepwise Regression (R²):   0%|          | 3/644 [00:05<18:45,  1.76s/it]"
     ]
    },
    {
     "name": "stdout",
     "output_type": "stream",
     "text": [
      "Added Feature: nN, R²: 0.7771\n"
     ]
    },
    {
     "name": "stderr",
     "output_type": "stream",
     "text": [
      "\r",
      "Performing Forward Stepwise Regression (R²):   1%|          | 4/644 [00:07<21:19,  2.00s/it]"
     ]
    },
    {
     "name": "stdout",
     "output_type": "stream",
     "text": [
      "Added Feature: VR2_D, R²: 0.7921\n"
     ]
    },
    {
     "name": "stderr",
     "output_type": "stream",
     "text": [
      "\r",
      "Performing Forward Stepwise Regression (R²):   1%|          | 5/644 [00:10<23:34,  2.21s/it]"
     ]
    },
    {
     "name": "stdout",
     "output_type": "stream",
     "text": [
      "Added Feature: R_TpiPCTPC, R²: 0.8101\n"
     ]
    },
    {
     "name": "stderr",
     "output_type": "stream",
     "text": [
      "\r",
      "Performing Forward Stepwise Regression (R²):   1%|          | 6/644 [00:12<24:58,  2.35s/it]"
     ]
    },
    {
     "name": "stdout",
     "output_type": "stream",
     "text": [
      "Added Feature: MATS4s, R²: 0.8463\n"
     ]
    },
    {
     "name": "stderr",
     "output_type": "stream",
     "text": [
      "\r",
      "Performing Forward Stepwise Regression (R²):   1%|          | 7/644 [00:15<27:43,  2.61s/it]"
     ]
    },
    {
     "name": "stdout",
     "output_type": "stream",
     "text": [
      "Added Feature: MATS1s, R²: 0.8895\n"
     ]
    },
    {
     "name": "stderr",
     "output_type": "stream",
     "text": [
      "\r",
      "Performing Forward Stepwise Regression (R²):   1%|          | 8/644 [00:19<29:47,  2.81s/it]"
     ]
    },
    {
     "name": "stdout",
     "output_type": "stream",
     "text": [
      "Added Feature: MATS3c, R²: 0.9077\n"
     ]
    },
    {
     "name": "stderr",
     "output_type": "stream",
     "text": [
      "\r",
      "Performing Forward Stepwise Regression (R²):   1%|▏         | 9/644 [00:22<30:11,  2.85s/it]"
     ]
    },
    {
     "name": "stdout",
     "output_type": "stream",
     "text": [
      "Added Feature: GATS2s, R²: 0.9275\n"
     ]
    },
    {
     "name": "stderr",
     "output_type": "stream",
     "text": [
      "\r",
      "Performing Forward Stepwise Regression (R²):   2%|▏         | 10/644 [00:24<29:52,  2.83s/it]"
     ]
    },
    {
     "name": "stdout",
     "output_type": "stream",
     "text": [
      "Added Feature: VR2_Dt, R²: 0.9413\n"
     ]
    },
    {
     "name": "stderr",
     "output_type": "stream",
     "text": [
      "\r",
      "Performing Forward Stepwise Regression (R²):   2%|▏         | 11/644 [00:27<30:06,  2.85s/it]"
     ]
    },
    {
     "name": "stdout",
     "output_type": "stream",
     "text": [
      "Added Feature: topoShape, R²: 0.9467\n"
     ]
    },
    {
     "name": "stderr",
     "output_type": "stream",
     "text": [
      "\r",
      "Performing Forward Stepwise Regression (R²):   2%|▏         | 12/644 [00:30<30:36,  2.91s/it]"
     ]
    },
    {
     "name": "stdout",
     "output_type": "stream",
     "text": [
      "Added Feature: nHeteroRing, R²: 0.9520\n"
     ]
    },
    {
     "name": "stderr",
     "output_type": "stream",
     "text": [
      "\r",
      "Performing Forward Stepwise Regression (R²):   2%|▏         | 13/644 [00:34<31:49,  3.03s/it]"
     ]
    },
    {
     "name": "stdout",
     "output_type": "stream",
     "text": [
      "Added Feature: C2SP2, R²: 0.9627\n"
     ]
    },
    {
     "name": "stderr",
     "output_type": "stream",
     "text": [
      "\r",
      "Performing Forward Stepwise Regression (R²):   2%|▏         | 14/644 [00:37<33:11,  3.16s/it]"
     ]
    },
    {
     "name": "stdout",
     "output_type": "stream",
     "text": [
      "Added Feature: MATS3s, R²: 0.9691\n"
     ]
    },
    {
     "name": "stderr",
     "output_type": "stream",
     "text": [
      "\r",
      "Performing Forward Stepwise Regression (R²):   2%|▏         | 15/644 [00:40<34:08,  3.26s/it]"
     ]
    },
    {
     "name": "stdout",
     "output_type": "stream",
     "text": [
      "Added Feature: VE3_D, R²: 0.9781\n"
     ]
    },
    {
     "name": "stderr",
     "output_type": "stream",
     "text": [
      "\r",
      "Performing Forward Stepwise Regression (R²):   2%|▏         | 16/644 [00:44<35:20,  3.38s/it]"
     ]
    },
    {
     "name": "stdout",
     "output_type": "stream",
     "text": [
      "Added Feature: ATSC2c, R²: 0.9877\n"
     ]
    },
    {
     "name": "stderr",
     "output_type": "stream",
     "text": [
      "\r",
      "Performing Forward Stepwise Regression (R²):   3%|▎         | 17/644 [00:48<36:37,  3.51s/it]"
     ]
    },
    {
     "name": "stdout",
     "output_type": "stream",
     "text": [
      "Added Feature: AATS7p, R²: 0.9906\n"
     ]
    },
    {
     "name": "stderr",
     "output_type": "stream",
     "text": [
      "\r",
      "Performing Forward Stepwise Regression (R²):   3%|▎         | 18/644 [00:52<38:19,  3.67s/it]"
     ]
    },
    {
     "name": "stdout",
     "output_type": "stream",
     "text": [
      "Added Feature: ATSC7v, R²: 0.9926\n"
     ]
    },
    {
     "name": "stderr",
     "output_type": "stream",
     "text": [
      "\r",
      "Performing Forward Stepwise Regression (R²):   3%|▎         | 19/644 [00:56<38:55,  3.74s/it]"
     ]
    },
    {
     "name": "stdout",
     "output_type": "stream",
     "text": [
      "Added Feature: LipinskiFailures, R²: 0.9941\n"
     ]
    },
    {
     "name": "stderr",
     "output_type": "stream",
     "text": [
      "\r",
      "Performing Forward Stepwise Regression (R²):   3%|▎         | 20/644 [01:00<39:44,  3.82s/it]"
     ]
    },
    {
     "name": "stdout",
     "output_type": "stream",
     "text": [
      "Added Feature: AATS2p, R²: 0.9960\n"
     ]
    },
    {
     "name": "stderr",
     "output_type": "stream",
     "text": [
      "Performing Forward Stepwise Regression (R²):   3%|▎         | 20/644 [01:04<33:33,  3.23s/it]\n"
     ]
    },
    {
     "data": {
      "image/png": "[encoded data removed]",
      "text/plain": [
       "<Figure size 432x288 with 1 Axes>"
      ]
     },
     "metadata": {
      "needs_background": "light"
     },
     "output_type": "display_data"
    },
    {
     "name": "stdout",
     "output_type": "stream",
     "text": [
      "Empty DataFrame\n",
      "Columns: [Molecule, logRIE(LPE), Outlier]\n",
      "Index: []\n",
      "Outliers found: 0\n"
     ]
    }
   ],
   "source": [
    "import pandas as pd\n",
    "import numpy as np\n",
    "import statsmodels.api as sm\n",
    "import warnings\n",
    "from tqdm import tqdm  # Progress bar\n",
    "import matplotlib.pyplot as plt\n",
    "\n",
    "# Suppress warnings\n",
    "warnings.filterwarnings(\"ignore\")\n",
    "\n",
    "# Forward Stepwise Regression using R² for feature selection\n",
    "def forward_selection_with_r2_threshold(X, y, r2_threshold=0.001):\n",
    "    initial_features = []\n",
    "    r2_values = []\n",
    "    current_r2 = 0\n",
    "    remaining_features = [col for col in X.columns if col not in initial_features]\n",
    "    \n",
    "    # Use tqdm to track progress\n",
    "    with tqdm(total=len(remaining_features), desc=\"Performing Forward Stepwise Regression (R²)\") as pbar:\n",
    "        while True:\n",
    "            remaining_features = [col for col in X.columns if col not in initial_features]\n",
    "            new_r2 = pd.Series(index=remaining_features)\n",
    "            for new_column in remaining_features:\n",
    "                model = sm.OLS(y, sm.add_constant(X[initial_features + [new_column]])).fit()\n",
    "                new_r2[new_column] = model.rsquared\n",
    "            best_feature = new_r2.idxmax()\n",
    "            best_r2 = new_r2.max()\n",
    "            \n",
    "            # Check if the improvement in R² is above the threshold\n",
    "            if (best_r2 - current_r2) > r2_threshold:\n",
    "                initial_features.append(best_feature)\n",
    "                current_r2 = best_r2\n",
    "                r2_values.append(current_r2)\n",
    "                pbar.update(1)  # Update progress bar\n",
    "                print(f\"Added Feature: {best_feature}, R²: {current_r2:.4f}\")\n",
    "            else:\n",
    "                break\n",
    "    return initial_features, r2_values\n",
    "\n",
    "# Load your dataset (replace 'your_file_path.xlsx' with the actual file path)\n",
    "file_path = 'IE-training-file-standard.xlsx'\n",
    "mh_sheet = pd.read_excel(file_path, sheet_name='M+H')\n",
    "\n",
    "# Define the target variable (logRIE) and exclude unnecessary columns\n",
    "exclude_columns = ['index', 'Molecule List', 'Molecule', 'SMILES', 'Adduct', \n",
    "                   'isotopic correction factor', 'Slope', 'RIE(LPE)', 'logRIE(LPE)']\n",
    "\n",
    "# Select relevant features and target\n",
    "X = mh_sheet.drop(columns=exclude_columns)  # Drop logRIE(LPE) from features\n",
    "y = mh_sheet['logRIE(LPE)']  # Set logRIE(LPE) as the target\n",
    "\n",
    "# Remove columns that have missing values (while keeping all rows)\n",
    "X = X.dropna(axis=1)\n",
    "\n",
    "# Ensure the number of rows in the dataset after cleaning columns\n",
    "print(f\"Number of rows after cleaning columns: {len(y)}\")\n",
    "print(f\"Number of columns after removing missing columns: {X.shape[1]}\")\n",
    "\n",
    "# Perform Forward Stepwise Regression using R² with a threshold for improvement\n",
    "selected_features_forward, r2_values_forward = forward_selection_with_r2_threshold(X, y, r2_threshold=0.001)\n",
    "\n",
    "# Plot R² values against number of features\n",
    "plt.plot(range(1, len(r2_values_forward) + 1), r2_values_forward, marker='o')\n",
    "plt.xlabel('Number of Features')\n",
    "plt.ylabel('R² Value')\n",
    "plt.title('Forward Stepwise Regression (R²): R² vs Number of Features')\n",
    "plt.grid(True)\n",
    "plt.show()\n",
    "\n",
    "# Build the final model using the selected features\n",
    "final_model = sm.OLS(y, sm.add_constant(X[selected_features_forward])).fit()\n",
    "\n",
    "# Predict logRIE(LPE) values using the final model\n",
    "y_pred = final_model.predict(sm.add_constant(X[selected_features_forward]))\n",
    "\n",
    "# Calculate residuals (differences between actual and predicted values)\n",
    "residuals = y - y_pred\n",
    "\n",
    "# Define a threshold for outliers (e.g., residuals greater than 3 standard deviations from the mean)\n",
    "threshold = 3 * np.std(residuals)\n",
    "\n",
    "# Identify outliers\n",
    "outliers = residuals.abs() > threshold\n",
    "\n",
    "# Label outliers in the dataset using the 'Molecule' column\n",
    "mh_sheet['Outlier'] = outliers\n",
    "\n",
    "# Print the outliers with their corresponding 'Molecule' values\n",
    "outliers_data = mh_sheet.loc[outliers, ['Molecule', 'logRIE(LPE)', 'Outlier']]\n",
    "print(outliers_data)\n",
    "\n",
    "# Optionally, you can export the outlier data to a CSV file\n",
    "outliers_data.to_csv('outliers_labeled.csv', index=False)\n",
    "\n",
    "# Optionally, display the DataFrame with the labeled outliers\n",
    "print(\"Outliers found:\", outliers_data.shape[0])\n"
   ]
  },
  {
   "cell_type": "markdown",
   "id": "e017dd55",
   "metadata": {},
   "source": [
    "# Forward Stepwise Regression for M-H adduct"
   ]
  },
  {
   "cell_type": "code",
   "execution_count": 17,
   "id": "06f39483",
   "metadata": {},
   "outputs": [
    {
     "name": "stderr",
     "output_type": "stream",
     "text": [
      "\r",
      "Performing Forward Stepwise Regression (R²):   0%|          | 0/644 [00:00<?, ?it/s]"
     ]
    },
    {
     "name": "stdout",
     "output_type": "stream",
     "text": [
      "Number of rows after cleaning columns: 31\n",
      "Number of columns after removing missing columns: 644\n"
     ]
    },
    {
     "name": "stderr",
     "output_type": "stream",
     "text": [
      "\r",
      "Performing Forward Stepwise Regression (R²):   0%|          | 1/644 [00:01<17:39,  1.65s/it]"
     ]
    },
    {
     "name": "stdout",
     "output_type": "stream",
     "text": [
      "Added Feature: nAcid, R²: 0.3688\n"
     ]
    },
    {
     "name": "stderr",
     "output_type": "stream",
     "text": [
      "\r",
      "Performing Forward Stepwise Regression (R²):   0%|          | 2/644 [00:03<17:26,  1.63s/it]"
     ]
    },
    {
     "name": "stdout",
     "output_type": "stream",
     "text": [
      "Added Feature: GATS3e, R²: 0.5517\n"
     ]
    },
    {
     "name": "stderr",
     "output_type": "stream",
     "text": [
      "\r",
      "Performing Forward Stepwise Regression (R²):   0%|          | 3/644 [00:05<18:05,  1.69s/it]"
     ]
    },
    {
     "name": "stdout",
     "output_type": "stream",
     "text": [
      "Added Feature: MATS1s, R²: 0.6476\n"
     ]
    },
    {
     "name": "stderr",
     "output_type": "stream",
     "text": [
      "\r",
      "Performing Forward Stepwise Regression (R²):   1%|          | 4/644 [00:07<19:55,  1.87s/it]"
     ]
    },
    {
     "name": "stdout",
     "output_type": "stream",
     "text": [
      "Added Feature: ATSC5i, R²: 0.7491\n"
     ]
    },
    {
     "name": "stderr",
     "output_type": "stream",
     "text": [
      "\r",
      "Performing Forward Stepwise Regression (R²):   1%|          | 5/644 [00:09<21:33,  2.02s/it]"
     ]
    },
    {
     "name": "stdout",
     "output_type": "stream",
     "text": [
      "Added Feature: VE1_Dt, R²: 0.7990\n"
     ]
    },
    {
     "name": "stderr",
     "output_type": "stream",
     "text": [
      "\r",
      "Performing Forward Stepwise Regression (R²):   1%|          | 6/644 [00:11<22:06,  2.08s/it]"
     ]
    },
    {
     "name": "stdout",
     "output_type": "stream",
     "text": [
      "Added Feature: AATSC8v, R²: 0.8500\n"
     ]
    },
    {
     "name": "stderr",
     "output_type": "stream",
     "text": [
      "\r",
      "Performing Forward Stepwise Regression (R²):   1%|          | 7/644 [00:13<22:54,  2.16s/it]"
     ]
    },
    {
     "name": "stdout",
     "output_type": "stream",
     "text": [
      "Added Feature: nAtomLAC, R²: 0.8790\n"
     ]
    },
    {
     "name": "stderr",
     "output_type": "stream",
     "text": [
      "\r",
      "Performing Forward Stepwise Regression (R²):   1%|          | 8/644 [00:16<24:39,  2.33s/it]"
     ]
    },
    {
     "name": "stdout",
     "output_type": "stream",
     "text": [
      "Added Feature: IC4, R²: 0.9103\n"
     ]
    },
    {
     "name": "stderr",
     "output_type": "stream",
     "text": [
      "\r",
      "Performing Forward Stepwise Regression (R²):   1%|▏         | 9/644 [00:19<26:41,  2.52s/it]"
     ]
    },
    {
     "name": "stdout",
     "output_type": "stream",
     "text": [
      "Added Feature: AATS5v, R²: 0.9409\n"
     ]
    },
    {
     "name": "stderr",
     "output_type": "stream",
     "text": [
      "\r",
      "Performing Forward Stepwise Regression (R²):   2%|▏         | 10/644 [00:22<28:22,  2.69s/it]"
     ]
    },
    {
     "name": "stdout",
     "output_type": "stream",
     "text": [
      "Added Feature: MATS7c, R²: 0.9488\n"
     ]
    },
    {
     "name": "stderr",
     "output_type": "stream",
     "text": [
      "\r",
      "Performing Forward Stepwise Regression (R²):   2%|▏         | 11/644 [00:25<29:24,  2.79s/it]"
     ]
    },
    {
     "name": "stdout",
     "output_type": "stream",
     "text": [
      "Added Feature: ATSC8p, R²: 0.9673\n"
     ]
    },
    {
     "name": "stderr",
     "output_type": "stream",
     "text": [
      "\r",
      "Performing Forward Stepwise Regression (R²):   2%|▏         | 12/644 [00:28<30:22,  2.88s/it]"
     ]
    },
    {
     "name": "stdout",
     "output_type": "stream",
     "text": [
      "Added Feature: VE2_D, R²: 0.9712\n"
     ]
    },
    {
     "name": "stderr",
     "output_type": "stream",
     "text": [
      "\r",
      "Performing Forward Stepwise Regression (R²):   2%|▏         | 13/644 [00:31<31:11,  2.97s/it]"
     ]
    },
    {
     "name": "stdout",
     "output_type": "stream",
     "text": [
      "Added Feature: nN, R²: 0.9760\n"
     ]
    },
    {
     "name": "stderr",
     "output_type": "stream",
     "text": [
      "Performing Forward Stepwise Regression (R²):   2%|▏         | 13/644 [00:35<28:35,  2.72s/it]\n"
     ]
    },
    {
     "data": {
      "image/png": "[encoded data removed]",
      "text/plain": [
       "<Figure size 432x288 with 1 Axes>"
      ]
     },
     "metadata": {
      "needs_background": "light"
     },
     "output_type": "display_data"
    },
    {
     "name": "stdout",
     "output_type": "stream",
     "text": [
      "Empty DataFrame\n",
      "Columns: [Molecule, logRIE(LPE), Outlier]\n",
      "Index: []\n",
      "Outliers found: 0\n"
     ]
    }
   ],
   "source": [
    "import pandas as pd\n",
    "import numpy as np\n",
    "import statsmodels.api as sm\n",
    "import warnings\n",
    "from tqdm import tqdm  # Progress bar\n",
    "import matplotlib.pyplot as plt\n",
    "\n",
    "# Suppress warnings\n",
    "warnings.filterwarnings(\"ignore\")\n",
    "\n",
    "# Forward Stepwise Regression using R² for feature selection\n",
    "def forward_selection_with_r2_threshold(X, y, r2_threshold=0.001):\n",
    "    initial_features = []\n",
    "    r2_values = []\n",
    "    current_r2 = 0\n",
    "    remaining_features = [col for col in X.columns if col not in initial_features]\n",
    "    \n",
    "    # Use tqdm to track progress\n",
    "    with tqdm(total=len(remaining_features), desc=\"Performing Forward Stepwise Regression (R²)\") as pbar:\n",
    "        while True:\n",
    "            remaining_features = [col for col in X.columns if col not in initial_features]\n",
    "            new_r2 = pd.Series(index=remaining_features)\n",
    "            for new_column in remaining_features:\n",
    "                model = sm.OLS(y, sm.add_constant(X[initial_features + [new_column]])).fit()\n",
    "                new_r2[new_column] = model.rsquared\n",
    "            best_feature = new_r2.idxmax()\n",
    "            best_r2 = new_r2.max()\n",
    "            \n",
    "            # Check if the improvement in R² is above the threshold\n",
    "            if (best_r2 - current_r2) > r2_threshold:\n",
    "                initial_features.append(best_feature)\n",
    "                current_r2 = best_r2\n",
    "                r2_values.append(current_r2)\n",
    "                pbar.update(1)  # Update progress bar\n",
    "                print(f\"Added Feature: {best_feature}, R²: {current_r2:.4f}\")\n",
    "            else:\n",
    "                break\n",
    "    return initial_features, r2_values\n",
    "\n",
    "# Load your dataset (replace 'your_file_path.xlsx' with the actual file path)\n",
    "file_path = 'IE-training-file-standard-1.xlsx'\n",
    "mh_sheet = pd.read_excel(file_path, sheet_name='M-H')\n",
    "\n",
    "# Define the target variable (logRIE) and exclude unnecessary columns\n",
    "exclude_columns = ['index', 'Molecule List', 'Molecule', 'SMILES', 'Adduct', \n",
    "                   'isotopic correction', 'Slope', 'RIE(LPE)', 'logRIE(LPE)']\n",
    "\n",
    "# Select relevant features and target\n",
    "X = mh_sheet.drop(columns=exclude_columns)  # Drop logRIE(LPE) from features\n",
    "y = mh_sheet['logRIE(LPE)']  # Set logRIE(LPE) as the target\n",
    "\n",
    "# Remove columns that have missing values (while keeping all rows)\n",
    "X = X.dropna(axis=1)\n",
    "\n",
    "# Ensure the number of rows in the dataset after cleaning columns\n",
    "print(f\"Number of rows after cleaning columns: {len(y)}\")\n",
    "print(f\"Number of columns after removing missing columns: {X.shape[1]}\")\n",
    "\n",
    "# Perform Forward Stepwise Regression using R² with a threshold for improvement\n",
    "selected_features_forward, r2_values_forward = forward_selection_with_r2_threshold(X, y, r2_threshold=0.001)\n",
    "\n",
    "# Plot R² values against number of features\n",
    "plt.plot(range(1, len(r2_values_forward) + 1), r2_values_forward, marker='o')\n",
    "plt.xlabel('Number of Features')\n",
    "plt.ylabel('R² Value')\n",
    "plt.title('Forward Stepwise Regression (R²): R² vs Number of Features')\n",
    "plt.grid(True)\n",
    "plt.show()\n",
    "\n",
    "# Build the final model using the selected features\n",
    "final_model = sm.OLS(y, sm.add_constant(X[selected_features_forward])).fit()\n",
    "\n",
    "# Predict logRIE(LPE) values using the final model\n",
    "y_pred = final_model.predict(sm.add_constant(X[selected_features_forward]))\n",
    "\n",
    "# Calculate residuals (differences between actual and predicted values)\n",
    "residuals = y - y_pred\n",
    "\n",
    "# Define a threshold for outliers (e.g., residuals greater than 3 standard deviations from the mean)\n",
    "threshold = 3 * np.std(residuals)\n",
    "\n",
    "# Identify outliers\n",
    "outliers = residuals.abs() > threshold\n",
    "\n",
    "# Label outliers in the dataset using the 'Molecule' column\n",
    "mh_sheet['Outlier'] = outliers\n",
    "\n",
    "# Print the outliers with their corresponding 'Molecule' values\n",
    "outliers_data = mh_sheet.loc[outliers, ['Molecule', 'logRIE(LPE)', 'Outlier']]\n",
    "print(outliers_data)\n",
    "\n",
    "# Optionally, you can export the outlier data to a CSV file\n",
    "outliers_data.to_csv('outliers_labeled.csv', index=False)\n",
    "\n",
    "# Optionally, display the DataFrame with the labeled outliers\n",
    "print(\"Outliers found:\", outliers_data.shape[0])\n"
   ]
  },
  {
   "cell_type": "code",
   "execution_count": 3,
   "id": "ba14ccbc",
   "metadata": {},
   "outputs": [
    {
     "name": "stderr",
     "output_type": "stream",
     "text": [
      "\r",
      "Performing Forward Stepwise Regression (R²):   0%|          | 0/644 [00:00<?, ?it/s]"
     ]
    },
    {
     "name": "stdout",
     "output_type": "stream",
     "text": [
      "Number of rows after cleaning columns: 31\n",
      "Number of columns after removing missing columns: 644\n"
     ]
    },
    {
     "name": "stderr",
     "output_type": "stream",
     "text": [
      "\r",
      "Performing Forward Stepwise Regression (R²):   0%|          | 1/644 [00:02<24:46,  2.31s/it]"
     ]
    },
    {
     "name": "stdout",
     "output_type": "stream",
     "text": [
      "Added Feature: nAcid, R²: 0.3688\n"
     ]
    },
    {
     "name": "stderr",
     "output_type": "stream",
     "text": [
      "\r",
      "Performing Forward Stepwise Regression (R²):   0%|          | 2/644 [00:04<26:09,  2.44s/it]"
     ]
    },
    {
     "name": "stdout",
     "output_type": "stream",
     "text": [
      "Added Feature: GATS3e, R²: 0.5517\n"
     ]
    },
    {
     "name": "stderr",
     "output_type": "stream",
     "text": [
      "\r",
      "Performing Forward Stepwise Regression (R²):   0%|          | 3/644 [00:07<27:35,  2.58s/it]"
     ]
    },
    {
     "name": "stdout",
     "output_type": "stream",
     "text": [
      "Added Feature: MATS1s, R²: 0.6476\n"
     ]
    },
    {
     "name": "stderr",
     "output_type": "stream",
     "text": [
      "\r",
      "Performing Forward Stepwise Regression (R²):   1%|          | 4/644 [00:10<30:00,  2.81s/it]"
     ]
    },
    {
     "name": "stdout",
     "output_type": "stream",
     "text": [
      "Added Feature: ATSC5i, R²: 0.7491\n"
     ]
    },
    {
     "name": "stderr",
     "output_type": "stream",
     "text": [
      "\r",
      "Performing Forward Stepwise Regression (R²):   1%|          | 5/644 [00:13<31:12,  2.93s/it]"
     ]
    },
    {
     "name": "stdout",
     "output_type": "stream",
     "text": [
      "Added Feature: VE1_Dt, R²: 0.7990\n"
     ]
    },
    {
     "name": "stderr",
     "output_type": "stream",
     "text": [
      "\r",
      "Performing Forward Stepwise Regression (R²):   1%|          | 6/644 [00:17<33:23,  3.14s/it]"
     ]
    },
    {
     "name": "stdout",
     "output_type": "stream",
     "text": [
      "Added Feature: AATSC8v, R²: 0.8500\n"
     ]
    },
    {
     "name": "stderr",
     "output_type": "stream",
     "text": [
      "\r",
      "Performing Forward Stepwise Regression (R²):   1%|          | 7/644 [00:21<37:37,  3.54s/it]"
     ]
    },
    {
     "name": "stdout",
     "output_type": "stream",
     "text": [
      "Added Feature: nAtomLAC, R²: 0.8790\n"
     ]
    },
    {
     "name": "stderr",
     "output_type": "stream",
     "text": [
      "\r",
      "Performing Forward Stepwise Regression (R²):   1%|          | 8/644 [00:26<40:19,  3.80s/it]"
     ]
    },
    {
     "name": "stdout",
     "output_type": "stream",
     "text": [
      "Added Feature: IC4, R²: 0.9103\n"
     ]
    },
    {
     "name": "stderr",
     "output_type": "stream",
     "text": [
      "\r",
      "Performing Forward Stepwise Regression (R²):   1%|▏         | 9/644 [00:30<41:05,  3.88s/it]"
     ]
    },
    {
     "name": "stdout",
     "output_type": "stream",
     "text": [
      "Added Feature: AATS5v, R²: 0.9409\n"
     ]
    },
    {
     "name": "stderr",
     "output_type": "stream",
     "text": [
      "\r",
      "Performing Forward Stepwise Regression (R²):   2%|▏         | 10/644 [00:35<44:45,  4.24s/it]"
     ]
    },
    {
     "name": "stdout",
     "output_type": "stream",
     "text": [
      "Added Feature: MATS7c, R²: 0.9488\n"
     ]
    },
    {
     "name": "stderr",
     "output_type": "stream",
     "text": [
      "\r",
      "Performing Forward Stepwise Regression (R²):   2%|▏         | 11/644 [00:39<45:31,  4.32s/it]"
     ]
    },
    {
     "name": "stdout",
     "output_type": "stream",
     "text": [
      "Added Feature: ATSC8p, R²: 0.9673\n"
     ]
    },
    {
     "name": "stderr",
     "output_type": "stream",
     "text": [
      "\r",
      "Performing Forward Stepwise Regression (R²):   2%|▏         | 12/644 [00:44<46:45,  4.44s/it]"
     ]
    },
    {
     "name": "stdout",
     "output_type": "stream",
     "text": [
      "Added Feature: VE2_D, R²: 0.9712\n"
     ]
    },
    {
     "name": "stderr",
     "output_type": "stream",
     "text": [
      "\r",
      "Performing Forward Stepwise Regression (R²):   2%|▏         | 13/644 [00:49<47:47,  4.54s/it]"
     ]
    },
    {
     "name": "stdout",
     "output_type": "stream",
     "text": [
      "Added Feature: nN, R²: 0.9760\n"
     ]
    },
    {
     "name": "stderr",
     "output_type": "stream",
     "text": [
      "Performing Forward Stepwise Regression (R²):   2%|▏         | 13/644 [00:54<44:13,  4.20s/it]\n"
     ]
    },
    {
     "data": {
      "image/png": "[encoded data removed]",
      "text/plain": [
       "<Figure size 432x288 with 1 Axes>"
      ]
     },
     "metadata": {
      "needs_background": "light"
     },
     "output_type": "display_data"
    },
    {
     "name": "stdout",
     "output_type": "stream",
     "text": [
      "      Feature      Weight\n",
      "0   Intercept  -46.058917\n",
      "1       nAcid   -1.086211\n",
      "2      GATS3e   31.770164\n",
      "3      MATS1s   10.991519\n",
      "4      ATSC5i    0.139877\n",
      "5      VE1_Dt   15.574613\n",
      "6     AATSC8v   -4.572403\n",
      "7    nAtomLAC   -0.566226\n",
      "8         IC4   -6.559066\n",
      "9      AATS5v    0.490039\n",
      "10     MATS7c  -45.996982\n",
      "11     ATSC8p    1.679689\n",
      "12      VE2_D -288.725300\n",
      "13         nN    0.371925\n"
     ]
    }
   ],
   "source": [
    "import pandas as pd\n",
    "import numpy as np\n",
    "import statsmodels.api as sm\n",
    "import warnings\n",
    "from tqdm import tqdm  # Progress bar\n",
    "import matplotlib.pyplot as plt\n",
    "\n",
    "# Suppress warnings\n",
    "warnings.filterwarnings(\"ignore\")\n",
    "\n",
    "# Forward Stepwise Regression using R² for feature selection\n",
    "def forward_selection_with_r2_threshold(X, y, r2_threshold=0.001):\n",
    "    initial_features = []\n",
    "    r2_values = []\n",
    "    current_r2 = 0\n",
    "    remaining_features = [col for col in X.columns if col not in initial_features]\n",
    "    \n",
    "    # Use tqdm to track progress\n",
    "    with tqdm(total=len(remaining_features), desc=\"Performing Forward Stepwise Regression (R²)\") as pbar:\n",
    "        while True:\n",
    "            remaining_features = [col for col in X.columns if col not in initial_features]\n",
    "            new_r2 = pd.Series(index=remaining_features)\n",
    "            for new_column in remaining_features:\n",
    "                model = sm.OLS(y, sm.add_constant(X[initial_features + [new_column]])).fit()\n",
    "                new_r2[new_column] = model.rsquared\n",
    "            best_feature = new_r2.idxmax()\n",
    "            best_r2 = new_r2.max()\n",
    "            \n",
    "            # Check if the improvement in R² is above the threshold\n",
    "            if (best_r2 - current_r2) > r2_threshold:\n",
    "                initial_features.append(best_feature)\n",
    "                current_r2 = best_r2\n",
    "                r2_values.append(current_r2)\n",
    "                pbar.update(1)  # Update progress bar\n",
    "                print(f\"Added Feature: {best_feature}, R²: {current_r2:.4f}\")\n",
    "            else:\n",
    "                break\n",
    "    return initial_features, r2_values\n",
    "\n",
    "# Load your dataset (replace 'your_file_path.xlsx' with the actual file path)\n",
    "file_path = 'IE-training-file-standard.xlsx'\n",
    "mh_sheet = pd.read_excel(file_path, sheet_name='M-H')\n",
    "\n",
    "# Define the target variable (logRIE) and exclude unnecessary columns\n",
    "exclude_columns = ['index', 'Molecule List', 'Molecule', 'SMILES', 'Adduct', \n",
    "                   'isotopic correction', 'Slope', 'RIE(LPE)', 'logRIE(LPE)']\n",
    "\n",
    "# Select relevant features and target\n",
    "X = mh_sheet.drop(columns=exclude_columns)  # Drop logRIE(LPE) from features\n",
    "y = mh_sheet['logRIE(LPE)']  # Set logRIE(LPE) as the target\n",
    "\n",
    "# Remove columns that have missing values (while keeping all rows)\n",
    "X = X.dropna(axis=1)\n",
    "\n",
    "# Ensure the number of rows in the dataset after cleaning columns\n",
    "print(f\"Number of rows after cleaning columns: {len(y)}\")\n",
    "print(f\"Number of columns after removing missing columns: {X.shape[1]}\")\n",
    "\n",
    "# Perform Forward Stepwise Regression using R² with a threshold for improvement\n",
    "selected_features_forward, r2_values_forward = forward_selection_with_r2_threshold(X, y, r2_threshold=0.001)\n",
    "\n",
    "# Plot R² values against number of features\n",
    "plt.plot(range(1, len(r2_values_forward) + 1), r2_values_forward, marker='o')\n",
    "plt.xlabel('Number of Features')\n",
    "plt.ylabel('R² Value')\n",
    "plt.title('Forward Stepwise Regression (R²): R² vs Number of Features')\n",
    "plt.grid(True)\n",
    "plt.show()\n",
    "\n",
    "# Build the final model using the selected features\n",
    "final_model = sm.OLS(y, sm.add_constant(X[selected_features_forward])).fit()\n",
    "\n",
    "# Predict logRIE(LPE) values using the final model\n",
    "y_pred = final_model.predict(sm.add_constant(X[selected_features_forward]))\n",
    "\n",
    "# Extract the feature names and their corresponding coefficients (weights)\n",
    "feature_weights = pd.DataFrame({\n",
    "    'Feature': ['Intercept'] + selected_features_forward,\n",
    "    'Weight': final_model.params.values\n",
    "})\n",
    "\n",
    "# Define the output file path (you can specify your preferred file path)\n",
    "output_file_path = 'selected_features_and_weights.xlsx'\n",
    "\n",
    "# Export to Excel file\n",
    "feature_weights.to_excel(output_file_path, index=False)\n",
    "\n",
    "# Optionally, display the DataFrame with the features and their weights\n",
    "print(feature_weights)\n"
   ]
  },
  {
   "cell_type": "code",
   "execution_count": 4,
   "id": "e764659a",
   "metadata": {},
   "outputs": [
    {
     "data": {
      "image/png": "[encoded data removed]",
      "text/plain": [
       "<Figure size 576x432 with 1 Axes>"
      ]
     },
     "metadata": {
      "needs_background": "light"
     },
     "output_type": "display_data"
    },
    {
     "data": {
      "text/plain": [
       "(['nAcid',\n",
       "  'GATS3e',\n",
       "  'MATS1s',\n",
       "  'ATSC5i',\n",
       "  'VE1_Dt',\n",
       "  'AATSC8v',\n",
       "  'nAtomLAC',\n",
       "  'IC4',\n",
       "  'AATS5v',\n",
       "  'MATS7c',\n",
       "  'ATSC8p',\n",
       "  'VE2_D',\n",
       "  'nN'],\n",
       " 0.9759545214110878)"
      ]
     },
     "execution_count": 4,
     "metadata": {},
     "output_type": "execute_result"
    }
   ],
   "source": [
    "# Plot observed vs predicted logRIE(LPE) for all rows\n",
    "plt.figure(figsize=(8, 6))\n",
    "plt.scatter(y, y_pred, color='blue', label='Predicted vs Observed')\n",
    "plt.plot([y.min(), y.max()], [y.min(), y.max()], 'r--', label='Perfect Fit')\n",
    "\n",
    "# Add annotations for MSE and R²\n",
    "mse_full_data = ((y - y_pred) ** 2).mean()\n",
    "r2_full_data = final_model.rsquared\n",
    "plt.text(0.05, 0.85, f'MSE: {mse_full_data:.2f}', transform=plt.gca().transAxes, fontsize=12, verticalalignment='top')\n",
    "plt.text(0.05, 0.80, f'R²: {r2_full_data:.2f}', transform=plt.gca().transAxes, fontsize=12, verticalalignment='top')\n",
    "\n",
    "# Labels and title\n",
    "plt.xlabel('Observed logRIE(LPE)')\n",
    "plt.ylabel('Predicted logRIE(LPE)')\n",
    "plt.title('Observed vs Predicted logRIE(LPE) using Forward Stepwise Selection (R²) M+H')\n",
    "plt.legend()\n",
    "plt.show()\n",
    "\n",
    "\n",
    "# Return selected features and R² value\n",
    "selected_features_forward, r2_full_data"
   ]
  },
  {
   "cell_type": "markdown",
   "id": "964dc49f",
   "metadata": {},
   "source": [
    "#  Forward Regression M+NH4"
   ]
  },
  {
   "cell_type": "code",
   "execution_count": 5,
   "id": "38032f26",
   "metadata": {},
   "outputs": [
    {
     "name": "stderr",
     "output_type": "stream",
     "text": [
      "\r",
      "Performing Forward Stepwise Regression (R²):   0%|          | 0/644 [00:00<?, ?it/s]"
     ]
    },
    {
     "name": "stdout",
     "output_type": "stream",
     "text": [
      "Number of rows after cleaning columns: 19\n",
      "Number of columns after removing missing columns: 644\n"
     ]
    },
    {
     "name": "stderr",
     "output_type": "stream",
     "text": [
      "\r",
      "Performing Forward Stepwise Regression (R²):   0%|          | 1/644 [00:02<24:06,  2.25s/it]"
     ]
    },
    {
     "name": "stdout",
     "output_type": "stream",
     "text": [
      "Added Feature: GATS8m, R²: 0.6339\n"
     ]
    },
    {
     "name": "stderr",
     "output_type": "stream",
     "text": [
      "\r",
      "Performing Forward Stepwise Regression (R²):   0%|          | 2/644 [00:04<25:22,  2.37s/it]"
     ]
    },
    {
     "name": "stdout",
     "output_type": "stream",
     "text": [
      "Added Feature: WTPT-5, R²: 0.7580\n"
     ]
    },
    {
     "name": "stderr",
     "output_type": "stream",
     "text": [
      "\r",
      "Performing Forward Stepwise Regression (R²):   0%|          | 3/644 [00:07<25:32,  2.39s/it]"
     ]
    },
    {
     "name": "stdout",
     "output_type": "stream",
     "text": [
      "Added Feature: AATSC5c, R²: 0.8228\n"
     ]
    },
    {
     "name": "stderr",
     "output_type": "stream",
     "text": [
      "\r",
      "Performing Forward Stepwise Regression (R²):   1%|          | 4/644 [00:09<26:29,  2.48s/it]"
     ]
    },
    {
     "name": "stdout",
     "output_type": "stream",
     "text": [
      "Added Feature: GATS6s, R²: 0.8657\n"
     ]
    },
    {
     "name": "stderr",
     "output_type": "stream",
     "text": [
      "\r",
      "Performing Forward Stepwise Regression (R²):   1%|          | 5/644 [00:12<27:26,  2.58s/it]"
     ]
    },
    {
     "name": "stdout",
     "output_type": "stream",
     "text": [
      "Added Feature: GATS3p, R²: 0.9256\n"
     ]
    },
    {
     "name": "stderr",
     "output_type": "stream",
     "text": [
      "\r",
      "Performing Forward Stepwise Regression (R²):   1%|          | 6/644 [00:15<29:33,  2.78s/it]"
     ]
    },
    {
     "name": "stdout",
     "output_type": "stream",
     "text": [
      "Added Feature: GATS2p, R²: 0.9672\n"
     ]
    },
    {
     "name": "stderr",
     "output_type": "stream",
     "text": [
      "\r",
      "Performing Forward Stepwise Regression (R²):   1%|          | 7/644 [00:18<30:43,  2.89s/it]"
     ]
    },
    {
     "name": "stdout",
     "output_type": "stream",
     "text": [
      "Added Feature: topoShape, R²: 0.9787\n"
     ]
    },
    {
     "name": "stderr",
     "output_type": "stream",
     "text": [
      "\r",
      "Performing Forward Stepwise Regression (R²):   1%|          | 8/644 [00:21<31:40,  2.99s/it]"
     ]
    },
    {
     "name": "stdout",
     "output_type": "stream",
     "text": [
      "Added Feature: AATSC6p, R²: 0.9862\n"
     ]
    },
    {
     "name": "stderr",
     "output_type": "stream",
     "text": [
      "\r",
      "Performing Forward Stepwise Regression (R²):   1%|▏         | 9/644 [00:25<32:20,  3.06s/it]"
     ]
    },
    {
     "name": "stdout",
     "output_type": "stream",
     "text": [
      "Added Feature: VR1_D, R²: 0.9950\n"
     ]
    },
    {
     "name": "stderr",
     "output_type": "stream",
     "text": [
      "\r",
      "Performing Forward Stepwise Regression (R²):   2%|▏         | 10/644 [00:28<33:24,  3.16s/it]"
     ]
    },
    {
     "name": "stdout",
     "output_type": "stream",
     "text": [
      "Added Feature: GATS2c, R²: 0.9988\n"
     ]
    },
    {
     "name": "stderr",
     "output_type": "stream",
     "text": [
      "Performing Forward Stepwise Regression (R²):   2%|▏         | 10/644 [00:34<36:11,  3.43s/it]\n"
     ]
    },
    {
     "data": {
      "image/png": "[encoded data removed]",
      "text/plain": [
       "<Figure size 432x288 with 1 Axes>"
      ]
     },
     "metadata": {
      "needs_background": "light"
     },
     "output_type": "display_data"
    },
    {
     "name": "stdout",
     "output_type": "stream",
     "text": [
      "Empty DataFrame\n",
      "Columns: [Molecule, logRIE(PS), Outlier]\n",
      "Index: []\n",
      "Outliers found: 0\n"
     ]
    }
   ],
   "source": [
    "import pandas as pd\n",
    "import numpy as np\n",
    "import statsmodels.api as sm\n",
    "import warnings\n",
    "from tqdm import tqdm  # Progress bar\n",
    "import matplotlib.pyplot as plt\n",
    "\n",
    "# Suppress warnings\n",
    "warnings.filterwarnings(\"ignore\")\n",
    "\n",
    "# Forward Stepwise Regression using R² for feature selection\n",
    "def forward_selection_with_r2_threshold(X, y, r2_threshold=0.001):\n",
    "    initial_features = []\n",
    "    r2_values = []\n",
    "    current_r2 = 0\n",
    "    remaining_features = [col for col in X.columns if col not in initial_features]\n",
    "    \n",
    "    # Use tqdm to track progress\n",
    "    with tqdm(total=len(remaining_features), desc=\"Performing Forward Stepwise Regression (R²)\") as pbar:\n",
    "        while True:\n",
    "            remaining_features = [col for col in X.columns if col not in initial_features]\n",
    "            new_r2 = pd.Series(index=remaining_features)\n",
    "            for new_column in remaining_features:\n",
    "                model = sm.OLS(y, sm.add_constant(X[initial_features + [new_column]])).fit()\n",
    "                new_r2[new_column] = model.rsquared\n",
    "            best_feature = new_r2.idxmax()\n",
    "            best_r2 = new_r2.max()\n",
    "            \n",
    "            # Check if the improvement in R² is above the threshold\n",
    "            if (best_r2 - current_r2) > r2_threshold:\n",
    "                initial_features.append(best_feature)\n",
    "                current_r2 = best_r2\n",
    "                r2_values.append(current_r2)\n",
    "                pbar.update(1)  # Update progress bar\n",
    "                print(f\"Added Feature: {best_feature}, R²: {current_r2:.4f}\")\n",
    "            else:\n",
    "                break\n",
    "    return initial_features, r2_values\n",
    "\n",
    "# Load your dataset (replace 'your_file_path.xlsx' with the actual file path)\n",
    "file_path = 'IE-training-file-standard.xlsx'\n",
    "mh_sheet = pd.read_excel(file_path, sheet_name='M+NH4')\n",
    "\n",
    "# Define the target variable (logRIE) and exclude unnecessary columns\n",
    "exclude_columns = ['index', 'Molecule List', 'Molecule', 'SMILES', 'Adduct', \n",
    "                   'isotopic correction factor', 'Slope', 'RIE(PS)','logRIE(PS)'\n",
    "                  ]\n",
    "\n",
    "# Select relevant features and target\n",
    "X = mh_sheet.drop(columns=exclude_columns)  # Drop logRIE(LPE) from features\n",
    "y = mh_sheet['logRIE(PS)']  # Set logRIE(LPE) as the target\n",
    "\n",
    "# Remove columns that have missing values (while keeping all rows)\n",
    "X = X.dropna(axis=1)\n",
    "\n",
    "# Ensure the number of rows in the dataset after cleaning columns\n",
    "print(f\"Number of rows after cleaning columns: {len(y)}\")\n",
    "print(f\"Number of columns after removing missing columns: {X.shape[1]}\")\n",
    "\n",
    "# Perform Forward Stepwise Regression using R² with a threshold for improvement\n",
    "selected_features_forward, r2_values_forward = forward_selection_with_r2_threshold(X, y, r2_threshold=0.001)\n",
    "\n",
    "# Plot R² values against number of features\n",
    "plt.plot(range(1, len(r2_values_forward) + 1), r2_values_forward, marker='o')\n",
    "plt.xlabel('Number of Features')\n",
    "plt.ylabel('R² Value')\n",
    "plt.title('Forward Stepwise Regression (R²): R² vs Number of Features')\n",
    "plt.grid(True)\n",
    "plt.show()\n",
    "\n",
    "# Build the final model using the selected features\n",
    "final_model = sm.OLS(y, sm.add_constant(X[selected_features_forward])).fit()\n",
    "\n",
    "# Predict logRIE(LPE) values using the final model\n",
    "y_pred = final_model.predict(sm.add_constant(X[selected_features_forward]))\n",
    "\n",
    "# Calculate residuals (differences between actual and predicted values)\n",
    "residuals = y - y_pred\n",
    "\n",
    "# Define a threshold for outliers (e.g., residuals greater than 3 standard deviations from the mean)\n",
    "threshold = 3 * np.std(residuals)\n",
    "\n",
    "# Identify outliers\n",
    "outliers = residuals.abs() > threshold\n",
    "\n",
    "# Label outliers in the dataset using the 'Molecule' column\n",
    "mh_sheet['Outlier'] = outliers\n",
    "\n",
    "# Print the outliers with their corresponding 'Molecule' values\n",
    "outliers_data = mh_sheet.loc[outliers, ['Molecule', 'logRIE(PS)', 'Outlier']]\n",
    "print(outliers_data)\n",
    "\n",
    "# Optionally, you can export the outlier data to a CSV file\n",
    "outliers_data.to_csv('outliers_labeled.csv', index=False)\n",
    "\n",
    "# Optionally, display the DataFrame with the labeled outliers\n",
    "print(\"Outliers found:\", outliers_data.shape[0])\n"
   ]
  },
  {
   "cell_type": "code",
   "execution_count": null,
   "id": "8965cc8d",
   "metadata": {},
   "outputs": [],
   "source": []
  }
 ],
 "metadata": {
  "kernelspec": {
   "display_name": "Python 3",
   "language": "python",
   "name": "python3"
  },
  "language_info": {
   "codemirror_mode": {
    "name": "ipython",
    "version": 3
   },
   "file_extension": ".py",
   "mimetype": "text/x-python",
   "name": "python",
   "nbconvert_exporter": "python",
   "pygments_lexer": "ipython3",
   "version": "3.8.8"
  }
 },
 "nbformat": 4,
 "nbformat_minor": 5
}
