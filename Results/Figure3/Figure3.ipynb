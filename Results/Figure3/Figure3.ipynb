{
  "cells": [
    {
      "cell_type": "markdown",
      "metadata": {},
      "source": [
        "# Figure3\n",
        "\n",
        "## Figure 3\n",
        "\n",
        "Hierarchical clustering heatmap of FDR-Significant lipid compounds\n",
        "\n",
        "## Load necessary libraries"
      ],
      "id": "ad6518a1-a475-4211-8435-c42383cd3af4"
    },
    {
      "cell_type": "code",
      "execution_count": null,
      "metadata": {},
      "outputs": [
        {
          "output_type": "stream",
          "name": "stderr",
          "text": [
            "\n",
            "Attaching package: 'dplyr'"
          ]
        },
        {
          "output_type": "stream",
          "name": "stderr",
          "text": [
            "The following objects are masked from 'package:stats':\n",
            "\n",
            "    filter, lag"
          ]
        },
        {
          "output_type": "stream",
          "name": "stderr",
          "text": [
            "The following objects are masked from 'package:base':\n",
            "\n",
            "    intersect, setdiff, setequal, union"
          ]
        },
        {
          "output_type": "stream",
          "name": "stderr",
          "text": [
            "Warning: package 'broom' was built under R version 4.3.3"
          ]
        },
        {
          "output_type": "stream",
          "name": "stderr",
          "text": [
            "Loading required package: grid"
          ]
        },
        {
          "output_type": "stream",
          "name": "stderr",
          "text": [
            "========================================\n",
            "ComplexHeatmap version 2.18.0\n",
            "Bioconductor page: http://bioconductor.org/packages/ComplexHeatmap/\n",
            "Github page: https://github.com/jokergoo/ComplexHeatmap\n",
            "Documentation: http://jokergoo.github.io/ComplexHeatmap-reference\n",
            "\n",
            "If you use it in published research, please cite either one:\n",
            "- Gu, Z. Complex Heatmap Visualization. iMeta 2022.\n",
            "- Gu, Z. Complex heatmaps reveal patterns and correlations in multidimensional \n",
            "    genomic data. Bioinformatics 2016.\n",
            "\n",
            "\n",
            "The new InteractiveComplexHeatmap package can directly export static \n",
            "complex heatmaps into an interactive Shiny app with zero effort. Have a try!\n",
            "\n",
            "This message can be suppressed by:\n",
            "  suppressPackageStartupMessages(library(ComplexHeatmap))\n",
            "========================================"
          ]
        }
      ],
      "source": [
        "library(readxl)\n",
        "library(tidyr)\n",
        "library(dplyr)"
      ],
      "id": "47521913-757c-4340-8aac-fd59b16fe17e"
    },
    {
      "cell_type": "markdown",
      "metadata": {},
      "source": [
        "## Function to perform FDR adjustment for a *single Molecule List*"
      ],
      "id": "59187f63-4e61-4c91-8a1e-464a7fe97908"
    },
    {
      "cell_type": "code",
      "execution_count": null,
      "metadata": {},
      "outputs": [],
      "source": [
        "perform_fdr <- function(data) {\n",
        "  data %>%\n",
        "    mutate(\n",
        "      fdr_adjusted_p = p.adjust(p.value, method = \"BH\"),\n",
        "      significant = fdr_adjusted_p < 0.05\n",
        "    )\n",
        "}\n",
        "\n",
        "# Perform FDR adjustment for each Molecule List separately\n",
        "fdr_results <- anova_results %>%\n",
        "  group_by(`Molecule List`) %>%\n",
        "  group_modify(~perform_fdr(.x)) %>%\n",
        "  ungroup()\n",
        "\n",
        "\n",
        "# Filter for significant compounds after FDR correction\n",
        "significant_compounds_fdr <- fdr_results %>%\n",
        "  filter(significant == TRUE) %>%\n",
        "  select(GlobalID, `Molecule List`, term) %>%\n",
        "  distinct()\n",
        "\n",
        "# Determine the effect for each significant compound\n",
        "compound_effects_fdr <- significant_compounds_fdr %>%\n",
        "  group_by(GlobalID) %>%\n",
        "  summarise(\n",
        "    Effect = case_when(\n",
        "      any(term == \"Type1\") ~ \"Climate\",\n",
        "      any(term == \"Type2\") ~ \"Water\",\n",
        "      any(term == \"Type1:Type2\") ~ \"Interaction\",\n",
        "      TRUE ~ \"Unknown\"\n",
        "    )\n",
        "  )\n",
        "\n",
        "# Filter the combined data to include only the significant compounds after FDR\n",
        "significant_data_fdr <- combined_df %>%\n",
        "  filter(GlobalID %in% significant_compounds_fdr$GlobalID)"
      ],
      "id": "41781238-b326-4c2b-a784-cd7f2a787c0f"
    },
    {
      "cell_type": "markdown",
      "metadata": {},
      "source": [
        "## Create a pivot table for the heatmap"
      ],
      "id": "72b37c9f-3fba-4a31-b7c5-4c371e0ff73d"
    },
    {
      "cell_type": "code",
      "execution_count": null,
      "metadata": {},
      "outputs": [
        {
          "output_type": "stream",
          "name": "stderr",
          "text": [
            "Warning: Setting row names on a tibble is deprecated."
          ]
        },
        {
          "output_type": "stream",
          "name": "stdout",
          "text": [
            "quartz_off_screen \n",
            "                2 "
          ]
        },
        {
          "output_type": "stream",
          "name": "stdout",
          "text": [
            "[1] \"FDR-corrected heatmap with compound names and bottom legends has been saved as 'complex_heatmap_fdr_significant_compounds_with_names.pdf'\""
          ]
        }
      ],
      "source": [
        "heatmap_data_fdr <- significant_data_fdr %>%\n",
        "  group_by(GlobalID, Molecule, `Molecule List`, Treatment) %>%\n",
        "  summarise(Measurement = mean(Measurement, na.rm = TRUE), .groups = \"drop\") %>%\n",
        "  pivot_wider(names_from = Treatment, values_from = Measurement) %>%\n",
        "  left_join(compound_effects_fdr, by = \"GlobalID\")\n",
        "\n",
        "# Prepare the matrix for heatmap\n",
        "heatmap_data_fdr <- heatmap_data_fdr %>%\n",
        "  mutate(RowLabel = paste(Molecule, \" (\", GlobalID, \")\", \", \", `Molecule List`, sep = \"\"))\n",
        "\n",
        "rownames(heatmap_data_fdr) <- heatmap_data_fdr$RowLabel"
      ],
      "id": "2da11210-0ac5-4253-abef-0b448dcafefd"
    }
  ],
  "nbformat": 4,
  "nbformat_minor": 5,
  "metadata": {
    "kernelspec": {
      "display_name": "Python 3",
      "language": "python",
      "name": "python3"
    }
  }
}