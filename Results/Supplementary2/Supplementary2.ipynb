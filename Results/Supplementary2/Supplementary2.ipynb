{
  "cells": [
    {
      "cell_type": "markdown",
      "metadata": {},
      "source": [
        "# supplementary2\n",
        "\n",
        "## Perform 2-way-anova\n",
        "\n",
        "## Load Normalized data and metadata"
      ],
      "id": "33e1d55e-9767-4742-97be-5903b5ed7827"
    },
    {
      "cell_type": "code",
      "execution_count": null,
      "metadata": {},
      "outputs": [
        {
          "output_type": "stream",
          "name": "stderr",
          "text": [
            "── Attaching core tidyverse packages ──────────────────────── tidyverse 2.0.0 ──\n",
            "✔ dplyr     1.1.2     ✔ readr     2.1.4\n",
            "✔ forcats   1.0.0     ✔ stringr   1.5.0\n",
            "✔ ggplot2   3.4.2     ✔ tibble    3.2.1\n",
            "✔ lubridate 1.9.3     ✔ tidyr     1.3.0\n",
            "✔ purrr     1.0.2     \n",
            "── Conflicts ────────────────────────────────────────── tidyverse_conflicts() ──\n",
            "✖ dplyr::filter() masks stats::filter()\n",
            "✖ dplyr::lag()    masks stats::lag()\n",
            "ℹ Use the conflicted package (<http://conflicted.r-lib.org/>) to force all conflicts to become errors"
          ]
        },
        {
          "output_type": "stream",
          "name": "stderr",
          "text": [
            "Loading required package: carData\n",
            "\n",
            "Attaching package: 'car'\n",
            "\n",
            "The following object is masked from 'package:dplyr':\n",
            "\n",
            "    recode\n",
            "\n",
            "The following object is masked from 'package:purrr':\n",
            "\n",
            "    some"
          ]
        },
        {
          "output_type": "stream",
          "name": "stdout",
          "text": [
            "Mismatches in metadata not in melted_normalized_data: 50 "
          ]
        },
        {
          "output_type": "stream",
          "name": "stdout",
          "text": [
            "Mismatches in melted_normalized_data not in metadata:  "
          ]
        },
        {
          "output_type": "stream",
          "name": "stderr",
          "text": [
            "Warning: Expected 2 pieces. Additional pieces discarded in 29094 rows [1, 2, 3, 4, 5, 6,\n",
            "7, 8, 9, 10, 11, 12, 13, 14, 15, 16, 17, 18, 19, 20, ...]."
          ]
        }
      ],
      "source": [
        "# Load necessary libraries\n",
        "library(tidyverse)"
      ],
      "id": "60b6f933-e3d1-4e28-a9a4-f48806c0e7d4"
    },
    {
      "cell_type": "markdown",
      "metadata": {},
      "source": [
        "# Find number of significant compounds for each effect"
      ],
      "id": "5723b5fc-f07c-4d73-85fa-9a803456bddb"
    },
    {
      "cell_type": "code",
      "execution_count": null,
      "metadata": {},
      "outputs": [
        {
          "output_type": "stream",
          "name": "stdout",
          "text": [
            "Number of significant compounds for Climate: 206 "
          ]
        },
        {
          "output_type": "stream",
          "name": "stdout",
          "text": [
            "Number of significant compounds for Water: 563 "
          ]
        },
        {
          "output_type": "stream",
          "name": "stdout",
          "text": [
            "Number of significant compounds for Interaction: 148 "
          ]
        }
      ],
      "source": [
        "significance_level <- 0.05\n",
        "significant_climate <- anova_results_df %>%\n",
        "  filter(Term == \"Climate\" & `Pr(>F)` < significance_level) %>%\n",
        "  pull(GlobalID) %>%\n",
        "  unique() %>%\n",
        "  length()\n",
        "\n",
        "significant_water <- anova_results_df %>%\n",
        "  filter(Term == \"Water\" & `Pr(>F)` < significance_level) %>%\n",
        "  pull(GlobalID) %>%\n",
        "  unique() %>%\n",
        "  length()\n",
        "\n",
        "significant_interaction <- anova_results_df %>%\n",
        "  filter(Term == \"Climate:Water\" & `Pr(>F)` < significance_level) %>%\n",
        "  pull(GlobalID) %>%\n",
        "  unique() %>%\n",
        "  length()\n",
        "\n",
        "# Print the results\n",
        "cat(\"Number of significant compounds for Climate:\", significant_climate, \"\\n\")"
      ],
      "id": "963f8e0d-ee26-432f-8bf5-664087c97aea"
    },
    {
      "cell_type": "markdown",
      "metadata": {},
      "source": [
        "# Get list of all significant compounds"
      ],
      "id": "fa96fb93-5a61-48bb-91bb-4585b511c5cf"
    },
    {
      "cell_type": "code",
      "execution_count": null,
      "metadata": {},
      "outputs": [],
      "source": [
        "significant_compounds <- anova_results_df %>%\n",
        "  filter(`Pr(>F)` < significance_level) %>%\n",
        "  pull(GlobalID) %>%\n",
        "  unique()\n",
        "\n",
        "# Create a data frame to store significance types for each compound\n",
        "significance_types <- anova_results_df %>%\n",
        "  filter(GlobalID %in% significant_compounds, `Pr(>F)` < significance_level) %>%\n",
        "  group_by(GlobalID) %>%\n",
        "  summarize(\n",
        "    Climate = any(Term == \"Climate\" & `Pr(>F)` < significance_level),\n",
        "    Water = any(Term == \"Water\" & `Pr(>F)` < significance_level),\n",
        "    Interaction = any(Term == \"Climate:Water\" & `Pr(>F)` < significance_level)\n",
        "  ) %>%\n",
        "  mutate(\n",
        "    SignificanceType = case_when(\n",
        "      Climate & Water & Interaction ~ \"All\",\n",
        "      Climate & Water ~ \"Climate & Water\",\n",
        "      Climate & Interaction ~ \"Climate & Interaction\",\n",
        "      Water & Interaction ~ \"Water & Interaction\",\n",
        "      Climate ~ \"Climate\",\n",
        "      Water ~ \"Water\",\n",
        "      Interaction ~ \"Interaction\"\n",
        "    )\n",
        "  )"
      ],
      "id": "84177c79-287f-40c8-9b1d-072e311139bc"
    },
    {
      "cell_type": "markdown",
      "metadata": {},
      "source": [
        "# Prepare data for heatmap"
      ],
      "id": "d516b6dd-bb71-4847-80fa-1823534978e4"
    },
    {
      "cell_type": "code",
      "execution_count": null,
      "metadata": {},
      "outputs": [
        {
          "output_type": "stream",
          "name": "stdout",
          "text": [
            "pdf \n",
            "  3 "
          ]
        }
      ],
      "source": [
        "library(dplyr)\n",
        "library(tidyr)\n",
        "library(tibble)\n",
        "library(pheatmap)\n",
        "\n",
        "# Assuming `merged_data`, `significant_compounds`, `metadata`, and `significance_types` are already loaded\n",
        "\n",
        "# Prepare the heatmap data\n",
        "heatmap_data <- merged_data %>%\n",
        "  filter(GlobalID %in% significant_compounds) %>%\n",
        "  group_by(GlobalID, Sample) %>%\n",
        "  summarize(Value = mean(Value, na.rm = TRUE), .groups = 'drop') %>%\n",
        "  pivot_wider(names_from = Sample, values_from = Value) %>%\n",
        "  column_to_rownames(\"GlobalID\")\n",
        "\n",
        "# Check if there are still duplicate row names\n",
        "if (any(duplicated(rownames(heatmap_data)))) {\n",
        "  cat(\"Warning: There are still duplicate GlobalIDs. Adding a suffix to make them unique.\\n\")\n",
        "  rownames(heatmap_data) <- make.unique(rownames(heatmap_data))\n",
        "}\n",
        "\n",
        "# Remove non-numeric columns\n",
        "heatmap_data <- heatmap_data %>% select_if(is.numeric)\n",
        "\n",
        "# Create annotation data frame\n",
        "annotation_df <- metadata %>%\n",
        "  dplyr::select(Sample, Climate = Type1, Water = Type2) %>%\n",
        "  tibble::column_to_rownames(\"Sample\")\n",
        "\n",
        "# Ensure all samples in heatmap_data are present in annotation_df\n",
        "common_samples <- intersect(colnames(heatmap_data), rownames(annotation_df))\n",
        "heatmap_data <- heatmap_data[, common_samples]\n",
        "annotation_df <- annotation_df[common_samples, ]\n",
        "\n",
        "# Create annotation colors\n",
        "ann_colors <- list(\n",
        "  Climate = c(\"Ambient\" = \"#66c2a5\", \"Warmed\" = \"#fc8d62\"),\n",
        "  Water = c(\"Dry\" = \"#8da0cb\", \"Wet\" = \"#e78ac3\")\n",
        ")\n",
        "\n",
        "# Assuming the first column in significance_types is the identifier for compounds\n",
        "row_annotation <- significance_types %>%\n",
        "  dplyr::select(1, SignificanceType) %>%\n",
        "  tibble::column_to_rownames(var = names(.)[1])\n",
        "\n",
        "# Ensure row_annotation matches heatmap_data\n",
        "row_annotation <- row_annotation[rownames(heatmap_data), , drop = FALSE]\n",
        "\n",
        "# Check if any NAs were introduced\n",
        "if (any(is.na(row_annotation))) {\n",
        "  cat(\"Warning: Some compounds in heatmap_data are missing from significance_types.\\n\")\n",
        "  # Remove rows with NA if necessary\n",
        "  row_annotation <- row_annotation[complete.cases(row_annotation), , drop = FALSE]\n",
        "}\n",
        "\n",
        "# Create annotation colors based on actual levels\n",
        "ann_colors <- list(\n",
        "  Climate = c(\"Ambient\" = \"#66c2a5\", \"Future\" = \"#fc8d62\"),\n",
        "  Water = c(\"No_drought\" = \"#8da0cb\", \"Drought\" = \"#e78ac3\")\n",
        ")\n",
        "\n",
        "# Create significance type colors\n",
        "sig_colors <- c(\n",
        "  \"Climate\" = \"#e41a1c\",\n",
        "  \"Water\" = \"#377eb8\",\n",
        "  \"Interaction\" = \"#4daf4a\",\n",
        "  \"Climate & Water\" = \"#984ea3\",\n",
        "  \"Climate & Interaction\" = \"#ff7f00\",\n",
        "  \"Water & Interaction\" = \"#ffff33\",\n",
        "  \"All\" = \"#a65628\"\n",
        ")\n",
        "\n",
        "# Combine annotation colors\n",
        "combined_ann_colors <- c(ann_colors, list(SignificanceType = sig_colors))\n",
        "\n",
        "# Save the heatmap to a PDF file\n",
        "pdf(\"significant_compounds_heatmap.pdf\", width = 12, height = 8)\n",
        "p <- pheatmap(\n",
        "  heatmap_data,\n",
        "  scale = \"row\",\n",
        "  clustering_distance_rows = \"correlation\",\n",
        "  clustering_distance_cols = \"correlation\",\n",
        "  annotation_col = annotation_df,\n",
        "  annotation_row = row_annotation,\n",
        "  annotation_colors = combined_ann_colors,\n",
        "  show_rownames = FALSE,\n",
        "  show_colnames = FALSE,\n",
        "  main = \"Hierarchical Clustering Heatmap of Significant Compounds\"\n",
        ")\n",
        "dev.off()"
      ],
      "id": "64baa526-108c-436d-9cfc-685625eb64a9"
    }
  ],
  "nbformat": 4,
  "nbformat_minor": 5,
  "metadata": {
    "kernelspec": {
      "display_name": "Python 3",
      "language": "python",
      "name": "python3"
    }
  }
}